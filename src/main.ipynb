{
 "cells": [
  {
   "cell_type": "code",
   "execution_count": 1,
   "metadata": {},
   "outputs": [],
   "source": [
    "# Import modules.\n",
    "import torch\n",
    "import random\n",
    "\n",
    "import numpy as np\n",
    "import matplotlib.pyplot as plt\n",
    "\n",
    "from torch import nn\n",
    "from network import CNN\n",
    "from trainer import Trainer\n",
    "from hyperparameters import *\n",
    "from torchinfo import summary\n",
    "from optimizer import Optimizer\n",
    "from torch.utils.data import DataLoader\n",
    "from torch.utils.data import random_split\n",
    "from torchvision import datasets, transforms"
   ]
  },
  {
   "cell_type": "code",
   "execution_count": 2,
   "metadata": {},
   "outputs": [
    {
     "name": "stdout",
     "output_type": "stream",
     "text": [
      "CUDA is available.\n"
     ]
    }
   ],
   "source": [
    "# Set training device.\n",
    "if torch.cuda.is_available():\n",
    "    device = torch.device(\"cuda\")\n",
    "    print(\"CUDA is available.\")\n",
    "else:\n",
    "    device = torch.device(\"cpu\")\n",
    "    print(\"CUDA is not available, using CPU instead.\")"
   ]
  },
  {
   "cell_type": "code",
   "execution_count": 3,
   "metadata": {},
   "outputs": [],
   "source": [
    "# Set random seed.\n",
    "random_seed = 0\n",
    "\n",
    "random.seed(random_seed)\n",
    "np.random.seed(random_seed)\n",
    "torch.manual_seed(random_seed)\n",
    "torch.cuda.manual_seed(random_seed)\n",
    "torch.backends.cudnn.benchmark = False\n",
    "torch.backends.cudnn.deterministic = True"
   ]
  },
  {
   "cell_type": "code",
   "execution_count": 4,
   "metadata": {},
   "outputs": [],
   "source": [
    "# Set data transform.\n",
    "transform = transforms.Compose([\n",
    "    transforms.ToTensor(),\n",
    "    transforms.Normalize((0.4911, 0.4820, 0.4467),(0.2022, 0.1993, 0.2009)),\n",
    "])"
   ]
  },
  {
   "cell_type": "code",
   "execution_count": 5,
   "metadata": {},
   "outputs": [
    {
     "name": "stdout",
     "output_type": "stream",
     "text": [
      "Files already downloaded and verified\n",
      "Files already downloaded and verified\n"
     ]
    }
   ],
   "source": [
    "# Get training dataset.\n",
    "train_data = datasets.CIFAR10(\n",
    "    root=DATASET_PATH,\n",
    "    train=True,\n",
    "    download=True,\n",
    "    transform=transform,\n",
    ")\n",
    "\n",
    "test_data = datasets.CIFAR10(\n",
    "    root=DATASET_PATH,\n",
    "    train=False,\n",
    "    download=True,\n",
    "    transform=transform,\n",
    ")"
   ]
  },
  {
   "cell_type": "code",
   "execution_count": 6,
   "metadata": {},
   "outputs": [],
   "source": [
    "train_loader = DataLoader(dataset=train_data, batch_size=BATCH_SIZE, shuffle=True)\n",
    "test_loader = DataLoader(dataset=test_data, batch_size=BATCH_SIZE, shuffle=False)"
   ]
  },
  {
   "cell_type": "code",
   "execution_count": 7,
   "metadata": {},
   "outputs": [
    {
     "data": {
      "text/plain": [
       "CNN(\n",
       "  (conv1): Sequential(\n",
       "    (0): Conv2d(3, 32, kernel_size=(3, 3), stride=(1, 1), padding=(1, 1))\n",
       "    (1): BatchNorm2d(32, eps=1e-05, momentum=0.1, affine=True, track_running_stats=True)\n",
       "    (2): ReLU(inplace=True)\n",
       "    (3): Conv2d(32, 32, kernel_size=(3, 3), stride=(1, 1), padding=(1, 1))\n",
       "    (4): BatchNorm2d(32, eps=1e-05, momentum=0.1, affine=True, track_running_stats=True)\n",
       "    (5): ReLU(inplace=True)\n",
       "    (6): MaxPool2d(kernel_size=2, stride=2, padding=0, dilation=1, ceil_mode=False)\n",
       "  )\n",
       "  (conv2): Sequential(\n",
       "    (0): Conv2d(32, 64, kernel_size=(3, 3), stride=(1, 1), padding=(1, 1))\n",
       "    (1): BatchNorm2d(64, eps=1e-05, momentum=0.1, affine=True, track_running_stats=True)\n",
       "    (2): ReLU(inplace=True)\n",
       "    (3): Conv2d(64, 64, kernel_size=(3, 3), stride=(1, 1), padding=(1, 1))\n",
       "    (4): BatchNorm2d(64, eps=1e-05, momentum=0.1, affine=True, track_running_stats=True)\n",
       "    (5): ReLU(inplace=True)\n",
       "    (6): MaxPool2d(kernel_size=2, stride=2, padding=0, dilation=1, ceil_mode=False)\n",
       "  )\n",
       "  (conv3): Sequential(\n",
       "    (0): Conv2d(64, 128, kernel_size=(3, 3), stride=(1, 1), padding=(1, 1))\n",
       "    (1): BatchNorm2d(128, eps=1e-05, momentum=0.1, affine=True, track_running_stats=True)\n",
       "    (2): ReLU(inplace=True)\n",
       "    (3): Conv2d(128, 128, kernel_size=(3, 3), stride=(1, 1), padding=(1, 1))\n",
       "    (4): BatchNorm2d(128, eps=1e-05, momentum=0.1, affine=True, track_running_stats=True)\n",
       "    (5): ReLU(inplace=True)\n",
       "    (6): MaxPool2d(kernel_size=2, stride=2, padding=0, dilation=1, ceil_mode=False)\n",
       "  )\n",
       "  (conv4): Sequential(\n",
       "    (0): Conv2d(128, 256, kernel_size=(3, 3), stride=(1, 1), padding=(1, 1))\n",
       "    (1): BatchNorm2d(256, eps=1e-05, momentum=0.1, affine=True, track_running_stats=True)\n",
       "    (2): ReLU(inplace=True)\n",
       "    (3): Conv2d(256, 256, kernel_size=(3, 3), stride=(1, 1), padding=(1, 1))\n",
       "    (4): BatchNorm2d(256, eps=1e-05, momentum=0.1, affine=True, track_running_stats=True)\n",
       "    (5): ReLU(inplace=True)\n",
       "    (6): MaxPool2d(kernel_size=2, stride=2, padding=0, dilation=1, ceil_mode=False)\n",
       "  )\n",
       "  (linear1): Linear(in_features=1024, out_features=256, bias=True)\n",
       "  (linear2): Linear(in_features=256, out_features=10, bias=True)\n",
       "  (relu): ReLU(inplace=True)\n",
       "  (flatten): Flatten(start_dim=1, end_dim=-1)\n",
       "  (sigmoid): Sigmoid()\n",
       ")"
      ]
     },
     "execution_count": 7,
     "metadata": {},
     "output_type": "execute_result"
    }
   ],
   "source": [
    "model = CNN()\n",
    "model.to(device=device)"
   ]
  },
  {
   "cell_type": "code",
   "execution_count": 8,
   "metadata": {},
   "outputs": [],
   "source": [
    "# Set optimizer.\n",
    "optimizer = Optimizer(params=model.parameters(), lr=1e-3)"
   ]
  },
  {
   "cell_type": "code",
   "execution_count": 9,
   "metadata": {},
   "outputs": [],
   "source": [
    "# Set loss function.\n",
    "loss_fn = nn.CrossEntropyLoss()"
   ]
  },
  {
   "cell_type": "code",
   "execution_count": 10,
   "metadata": {},
   "outputs": [
    {
     "data": {
      "text/plain": [
       "==========================================================================================\n",
       "Layer (type:depth-idx)                   Output Shape              Param #\n",
       "==========================================================================================\n",
       "CNN                                      [1, 10]                   --\n",
       "├─Sequential: 1-1                        [1, 32, 16, 16]           --\n",
       "│    └─Conv2d: 2-1                       [1, 32, 32, 32]           896\n",
       "│    └─BatchNorm2d: 2-2                  [1, 32, 32, 32]           64\n",
       "│    └─ReLU: 2-3                         [1, 32, 32, 32]           --\n",
       "│    └─Conv2d: 2-4                       [1, 32, 32, 32]           9,248\n",
       "│    └─BatchNorm2d: 2-5                  [1, 32, 32, 32]           64\n",
       "│    └─ReLU: 2-6                         [1, 32, 32, 32]           --\n",
       "│    └─MaxPool2d: 2-7                    [1, 32, 16, 16]           --\n",
       "├─Sequential: 1-2                        [1, 64, 8, 8]             --\n",
       "│    └─Conv2d: 2-8                       [1, 64, 16, 16]           18,496\n",
       "│    └─BatchNorm2d: 2-9                  [1, 64, 16, 16]           128\n",
       "│    └─ReLU: 2-10                        [1, 64, 16, 16]           --\n",
       "│    └─Conv2d: 2-11                      [1, 64, 16, 16]           36,928\n",
       "│    └─BatchNorm2d: 2-12                 [1, 64, 16, 16]           128\n",
       "│    └─ReLU: 2-13                        [1, 64, 16, 16]           --\n",
       "│    └─MaxPool2d: 2-14                   [1, 64, 8, 8]             --\n",
       "├─Sequential: 1-3                        [1, 128, 4, 4]            --\n",
       "│    └─Conv2d: 2-15                      [1, 128, 8, 8]            73,856\n",
       "│    └─BatchNorm2d: 2-16                 [1, 128, 8, 8]            256\n",
       "│    └─ReLU: 2-17                        [1, 128, 8, 8]            --\n",
       "│    └─Conv2d: 2-18                      [1, 128, 8, 8]            147,584\n",
       "│    └─BatchNorm2d: 2-19                 [1, 128, 8, 8]            256\n",
       "│    └─ReLU: 2-20                        [1, 128, 8, 8]            --\n",
       "│    └─MaxPool2d: 2-21                   [1, 128, 4, 4]            --\n",
       "├─Sequential: 1-4                        [1, 256, 2, 2]            --\n",
       "│    └─Conv2d: 2-22                      [1, 256, 4, 4]            295,168\n",
       "│    └─BatchNorm2d: 2-23                 [1, 256, 4, 4]            512\n",
       "│    └─ReLU: 2-24                        [1, 256, 4, 4]            --\n",
       "│    └─Conv2d: 2-25                      [1, 256, 4, 4]            590,080\n",
       "│    └─BatchNorm2d: 2-26                 [1, 256, 4, 4]            512\n",
       "│    └─ReLU: 2-27                        [1, 256, 4, 4]            --\n",
       "│    └─MaxPool2d: 2-28                   [1, 256, 2, 2]            --\n",
       "├─Flatten: 1-5                           [1, 1024]                 --\n",
       "├─Linear: 1-6                            [1, 256]                  262,400\n",
       "├─ReLU: 1-7                              [1, 256]                  --\n",
       "├─Linear: 1-8                            [1, 10]                   2,570\n",
       "├─Sigmoid: 1-9                           [1, 10]                   --\n",
       "==========================================================================================\n",
       "Total params: 1,439,146\n",
       "Trainable params: 1,439,146\n",
       "Non-trainable params: 0\n",
       "Total mult-adds (Units.MEGABYTES): 53.18\n",
       "==========================================================================================\n",
       "Input size (MB): 0.01\n",
       "Forward/backward pass size (MB): 1.97\n",
       "Params size (MB): 5.76\n",
       "Estimated Total Size (MB): 7.74\n",
       "=========================================================================================="
      ]
     },
     "execution_count": 10,
     "metadata": {},
     "output_type": "execute_result"
    }
   ],
   "source": [
    "# Show summary of model.\n",
    "summary(model, input_size=(1, 3, 32, 32))"
   ]
  },
  {
   "cell_type": "code",
   "execution_count": 11,
   "metadata": {},
   "outputs": [],
   "source": [
    "trainer = Trainer(model=model, optimizer=optimizer, loss_fn=loss_fn, train_loader=train_loader, device=device)"
   ]
  },
  {
   "cell_type": "code",
   "execution_count": 13,
   "metadata": {},
   "outputs": [
    {
     "name": "stdout",
     "output_type": "stream",
     "text": [
      "Epoch 0 | Progress: 100.000% | Loss: 1.910 |  Accuracy: 40.226%\n",
      "Epoch 1 | Progress: 100.000% | Loss: 1.760 |  Accuracy: 58.444%\n",
      "Epoch 2 | Progress: 100.000% | Loss: 1.703 |  Accuracy: 66.578%\n",
      "Epoch 3 | Progress: 100.000% | Loss: 1.637 |  Accuracy: 74.872%\n",
      "Epoch 4 | Progress: 100.000% | Loss: 1.620 |  Accuracy: 76.798%\n"
     ]
    }
   ],
   "source": [
    "trainer.train(epochs=5)"
   ]
  },
  {
   "cell_type": "code",
   "execution_count": 14,
   "metadata": {},
   "outputs": [
    {
     "data": {
      "image/png": "[encoded data removed]",
      "text/plain": [
       "<Figure size 640x480 with 1 Axes>"
      ]
     },
     "metadata": {},
     "output_type": "display_data"
    }
   ],
   "source": [
    "# Plot loss history.\n",
    "plt.plot(trainer.get_loss_accuracy())\n",
    "plt.axvline(x=600, color=\"red\")\n",
    "plt.show()"
   ]
  },
  {
   "cell_type": "code",
   "execution_count": 15,
   "metadata": {},
   "outputs": [],
   "source": [
    "# Save loss history.\n",
    "with open(\"../results/loss_history.txt\", \"w\") as f:\n",
    "    buffer = \"\"\n",
    "\n",
    "    for l in trainer.get_loss_accuracy():\n",
    "        buffer += f\"{str(l)},\"\n",
    "\n",
    "    f.write(buffer)"
   ]
  },
  {
   "cell_type": "code",
   "execution_count": null,
   "metadata": {},
   "outputs": [],
   "source": []
  }
 ],
 "metadata": {
  "kernelspec": {
   "display_name": "Python 3",
   "language": "python",
   "name": "python3"
  },
  "language_info": {
   "codemirror_mode": {
    "name": "ipython",
    "version": 3
   },
   "file_extension": ".py",
   "mimetype": "text/x-python",
   "name": "python",
   "nbconvert_exporter": "python",
   "pygments_lexer": "ipython3",
   "version": "3.11.9"
  }
 },
 "nbformat": 4,
 "nbformat_minor": 2
}
